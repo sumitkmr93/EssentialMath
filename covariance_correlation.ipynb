{
 "cells": [
  {
   "cell_type": "markdown",
   "id": "6eb1ae56",
   "metadata": {},
   "source": [
    "# Covariance - Positive"
   ]
  },
  {
   "cell_type": "code",
   "execution_count": 1,
   "id": "4294438f",
   "metadata": {},
   "outputs": [],
   "source": [
    "# Imports\n",
    "import pandas as pd\n",
    "import numpy as np\n",
    "import matplotlib.pyplot as plt"
   ]
  },
  {
   "cell_type": "code",
   "execution_count": 2,
   "id": "b169a8d8",
   "metadata": {},
   "outputs": [
    {
     "data": {
      "text/plain": "         Data  Temperatura Media (C)  Temperatura Minima (C)  \\\n0  2015-01-01                  27.30                    23.9   \n1  2015-01-02                  27.02                    24.5   \n2  2015-01-03                  24.82                    22.4   \n3  2015-01-04                  23.98                    21.5   \n4  2015-01-05                  23.82                    21.0   \n\n   Temperatura Maxima (C)  Precipitacao (mm)  Final de Semana  \\\n0                    32.5                0.0              0.0   \n1                    33.5                0.0              0.0   \n2                    29.9                0.0              1.0   \n3                    28.6                1.2              1.0   \n4                    28.3                0.0              0.0   \n\n   Consumo de cerveja (litros)  \n0                       25.461  \n1                       28.972  \n2                       30.814  \n3                       29.799  \n4                       28.900  ",
      "text/html": "<div>\n<style scoped>\n    .dataframe tbody tr th:only-of-type {\n        vertical-align: middle;\n    }\n\n    .dataframe tbody tr th {\n        vertical-align: top;\n    }\n\n    .dataframe thead th {\n        text-align: right;\n    }\n</style>\n<table border=\"1\" class=\"dataframe\">\n  <thead>\n    <tr style=\"text-align: right;\">\n      <th></th>\n      <th>Data</th>\n      <th>Temperatura Media (C)</th>\n      <th>Temperatura Minima (C)</th>\n      <th>Temperatura Maxima (C)</th>\n      <th>Precipitacao (mm)</th>\n      <th>Final de Semana</th>\n      <th>Consumo de cerveja (litros)</th>\n    </tr>\n  </thead>\n  <tbody>\n    <tr>\n      <th>0</th>\n      <td>2015-01-01</td>\n      <td>27.30</td>\n      <td>23.9</td>\n      <td>32.5</td>\n      <td>0.0</td>\n      <td>0.0</td>\n      <td>25.461</td>\n    </tr>\n    <tr>\n      <th>1</th>\n      <td>2015-01-02</td>\n      <td>27.02</td>\n      <td>24.5</td>\n      <td>33.5</td>\n      <td>0.0</td>\n      <td>0.0</td>\n      <td>28.972</td>\n    </tr>\n    <tr>\n      <th>2</th>\n      <td>2015-01-03</td>\n      <td>24.82</td>\n      <td>22.4</td>\n      <td>29.9</td>\n      <td>0.0</td>\n      <td>1.0</td>\n      <td>30.814</td>\n    </tr>\n    <tr>\n      <th>3</th>\n      <td>2015-01-04</td>\n      <td>23.98</td>\n      <td>21.5</td>\n      <td>28.6</td>\n      <td>1.2</td>\n      <td>1.0</td>\n      <td>29.799</td>\n    </tr>\n    <tr>\n      <th>4</th>\n      <td>2015-01-05</td>\n      <td>23.82</td>\n      <td>21.0</td>\n      <td>28.3</td>\n      <td>0.0</td>\n      <td>0.0</td>\n      <td>28.900</td>\n    </tr>\n  </tbody>\n</table>\n</div>"
     },
     "execution_count": 2,
     "metadata": {},
     "output_type": "execute_result"
    }
   ],
   "source": [
    "beer_data = pd.read_csv(\"https://raw.githubusercontent.com/hadrienj/essential_math_for_data_science/master/data/beer_dataset.csv\")\n",
    "beer_data.head()"
   ]
  },
  {
   "cell_type": "code",
   "execution_count": 3,
   "id": "024abf1d",
   "metadata": {
    "pycharm": {
     "name": "#%%\n"
    }
   },
   "outputs": [
    {
     "data": {
      "text/plain": "<Figure size 432x288 with 1 Axes>",
      "image/png": "[encoded data removed]"
     },
     "metadata": {
      "needs_background": "light"
     },
     "output_type": "display_data"
    }
   ],
   "source": [
    "# PLot the consumption as a function of maximal temperature\n",
    "plt.scatter(\n",
    "    beer_data['Temperatura Maxima (C)'],\n",
    "    beer_data['Consumo de cerveja (litros)'],\n",
    "    cmap=0.5\n",
    ")\n",
    "plt.xlabel(\"Temperature (Max)\")\n",
    "plt.ylabel(\"Consumption\")\n",
    "plt.show()"
   ]
  },
  {
   "cell_type": "code",
   "execution_count": 4,
   "id": "b6412c6c",
   "metadata": {},
   "outputs": [
    {
     "name": "stdout",
     "output_type": "stream",
     "text": [
      "Covariance: 12.172649474197785\n"
     ]
    }
   ],
   "source": [
    "# Calculating co-variance\n",
    "x = beer_data['Temperatura Maxima (C)']\n",
    "y = beer_data['Consumo de cerveja (litros)']\n",
    "\n",
    "covar = (np.sum((x-x.mean())*(y-y.mean())))/x.shape[0]\n",
    "print(f'Covariance: {covar}')"
   ]
  },
  {
   "cell_type": "markdown",
   "id": "ced2d83c",
   "metadata": {},
   "source": [
    "# Covariance - Negative"
   ]
  },
  {
   "cell_type": "code",
   "execution_count": 5,
   "id": "d13c8d86",
   "metadata": {},
   "outputs": [
    {
     "data": {
      "text/plain": "  Country name Regional indicator  Ladder score  \\\n0      Finland     Western Europe        7.8087   \n1      Denmark     Western Europe        7.6456   \n2  Switzerland     Western Europe        7.5599   \n3      Iceland     Western Europe        7.5045   \n4       Norway     Western Europe        7.4880   \n\n   Standard error of ladder score  upperwhisker  lowerwhisker  \\\n0                        0.031156      7.869766      7.747634   \n1                        0.033492      7.711245      7.579955   \n2                        0.035014      7.628528      7.491272   \n3                        0.059616      7.621347      7.387653   \n4                        0.034837      7.556281      7.419719   \n\n   Logged GDP per capita  Social support  Healthy life expectancy  \\\n0              10.639267        0.954330                71.900825   \n1              10.774001        0.955991                72.402504   \n2              10.979933        0.942847                74.102448   \n3              10.772559        0.974670                73.000000   \n4              11.087804        0.952487                73.200783   \n\n   Freedom to make life choices  Generosity  Perceptions of corruption  \\\n0                      0.949172   -0.059482                   0.195445   \n1                      0.951444    0.066202                   0.168489   \n2                      0.921337    0.105911                   0.303728   \n3                      0.948892    0.246944                   0.711710   \n4                      0.955750    0.134533                   0.263218   \n\n   Ladder score in Dystopia  Explained by: Log GDP per capita  \\\n0                  1.972317                          1.285190   \n1                  1.972317                          1.326949   \n2                  1.972317                          1.390774   \n3                  1.972317                          1.326502   \n4                  1.972317                          1.424207   \n\n   Explained by: Social support  Explained by: Healthy life expectancy  \\\n0                      1.499526                               0.961271   \n1                      1.503449                               0.979333   \n2                      1.472403                               1.040533   \n3                      1.547567                               1.000843   \n4                      1.495173                               1.008072   \n\n   Explained by: Freedom to make life choices  Explained by: Generosity  \\\n0                                    0.662317                  0.159670   \n1                                    0.665040                  0.242793   \n2                                    0.628954                  0.269056   \n3                                    0.661981                  0.362330   \n4                                    0.670201                  0.287985   \n\n   Explained by: Perceptions of corruption  Dystopia + residual  \n0                                 0.477857             2.762835  \n1                                 0.495260             2.432741  \n2                                 0.407946             2.350267  \n3                                 0.144541             2.460688  \n4                                 0.434101             2.168266  ",
      "text/html": "<div>\n<style scoped>\n    .dataframe tbody tr th:only-of-type {\n        vertical-align: middle;\n    }\n\n    .dataframe tbody tr th {\n        vertical-align: top;\n    }\n\n    .dataframe thead th {\n        text-align: right;\n    }\n</style>\n<table border=\"1\" class=\"dataframe\">\n  <thead>\n    <tr style=\"text-align: right;\">\n      <th></th>\n      <th>Country name</th>\n      <th>Regional indicator</th>\n      <th>Ladder score</th>\n      <th>Standard error of ladder score</th>\n      <th>upperwhisker</th>\n      <th>lowerwhisker</th>\n      <th>Logged GDP per capita</th>\n      <th>Social support</th>\n      <th>Healthy life expectancy</th>\n      <th>Freedom to make life choices</th>\n      <th>Generosity</th>\n      <th>Perceptions of corruption</th>\n      <th>Ladder score in Dystopia</th>\n      <th>Explained by: Log GDP per capita</th>\n      <th>Explained by: Social support</th>\n      <th>Explained by: Healthy life expectancy</th>\n      <th>Explained by: Freedom to make life choices</th>\n      <th>Explained by: Generosity</th>\n      <th>Explained by: Perceptions of corruption</th>\n      <th>Dystopia + residual</th>\n    </tr>\n  </thead>\n  <tbody>\n    <tr>\n      <th>0</th>\n      <td>Finland</td>\n      <td>Western Europe</td>\n      <td>7.8087</td>\n      <td>0.031156</td>\n      <td>7.869766</td>\n      <td>7.747634</td>\n      <td>10.639267</td>\n      <td>0.954330</td>\n      <td>71.900825</td>\n      <td>0.949172</td>\n      <td>-0.059482</td>\n      <td>0.195445</td>\n      <td>1.972317</td>\n      <td>1.285190</td>\n      <td>1.499526</td>\n      <td>0.961271</td>\n      <td>0.662317</td>\n      <td>0.159670</td>\n      <td>0.477857</td>\n      <td>2.762835</td>\n    </tr>\n    <tr>\n      <th>1</th>\n      <td>Denmark</td>\n      <td>Western Europe</td>\n      <td>7.6456</td>\n      <td>0.033492</td>\n      <td>7.711245</td>\n      <td>7.579955</td>\n      <td>10.774001</td>\n      <td>0.955991</td>\n      <td>72.402504</td>\n      <td>0.951444</td>\n      <td>0.066202</td>\n      <td>0.168489</td>\n      <td>1.972317</td>\n      <td>1.326949</td>\n      <td>1.503449</td>\n      <td>0.979333</td>\n      <td>0.665040</td>\n      <td>0.242793</td>\n      <td>0.495260</td>\n      <td>2.432741</td>\n    </tr>\n    <tr>\n      <th>2</th>\n      <td>Switzerland</td>\n      <td>Western Europe</td>\n      <td>7.5599</td>\n      <td>0.035014</td>\n      <td>7.628528</td>\n      <td>7.491272</td>\n      <td>10.979933</td>\n      <td>0.942847</td>\n      <td>74.102448</td>\n      <td>0.921337</td>\n      <td>0.105911</td>\n      <td>0.303728</td>\n      <td>1.972317</td>\n      <td>1.390774</td>\n      <td>1.472403</td>\n      <td>1.040533</td>\n      <td>0.628954</td>\n      <td>0.269056</td>\n      <td>0.407946</td>\n      <td>2.350267</td>\n    </tr>\n    <tr>\n      <th>3</th>\n      <td>Iceland</td>\n      <td>Western Europe</td>\n      <td>7.5045</td>\n      <td>0.059616</td>\n      <td>7.621347</td>\n      <td>7.387653</td>\n      <td>10.772559</td>\n      <td>0.974670</td>\n      <td>73.000000</td>\n      <td>0.948892</td>\n      <td>0.246944</td>\n      <td>0.711710</td>\n      <td>1.972317</td>\n      <td>1.326502</td>\n      <td>1.547567</td>\n      <td>1.000843</td>\n      <td>0.661981</td>\n      <td>0.362330</td>\n      <td>0.144541</td>\n      <td>2.460688</td>\n    </tr>\n    <tr>\n      <th>4</th>\n      <td>Norway</td>\n      <td>Western Europe</td>\n      <td>7.4880</td>\n      <td>0.034837</td>\n      <td>7.556281</td>\n      <td>7.419719</td>\n      <td>11.087804</td>\n      <td>0.952487</td>\n      <td>73.200783</td>\n      <td>0.955750</td>\n      <td>0.134533</td>\n      <td>0.263218</td>\n      <td>1.972317</td>\n      <td>1.424207</td>\n      <td>1.495173</td>\n      <td>1.008072</td>\n      <td>0.670201</td>\n      <td>0.287985</td>\n      <td>0.434101</td>\n      <td>2.168266</td>\n    </tr>\n  </tbody>\n</table>\n</div>"
     },
     "execution_count": 5,
     "metadata": {},
     "output_type": "execute_result"
    }
   ],
   "source": [
    "happ_data = pd.read_csv(\"https://raw.githubusercontent.com/hadrienj/essential_math_for_data_science/master/data/happiness_2020.csv\")\n",
    "happ_data.head()"
   ]
  },
  {
   "cell_type": "code",
   "execution_count": 6,
   "id": "0e59d2c8",
   "metadata": {},
   "outputs": [
    {
     "data": {
      "text/plain": "<matplotlib.collections.PathCollection at 0x2d0fd5c7d30>"
     },
     "execution_count": 6,
     "metadata": {},
     "output_type": "execute_result"
    },
    {
     "data": {
      "text/plain": "<Figure size 432x288 with 1 Axes>",
      "image/png": "[encoded data removed]"
     },
     "metadata": {
      "needs_background": "light"
     },
     "output_type": "display_data"
    }
   ],
   "source": [
    "X = happ_data['Perceptions of corruption']\n",
    "Y = happ_data['Ladder score']\n",
    "plt.scatter(X,Y, cmap=0.5)"
   ]
  },
  {
   "cell_type": "code",
   "execution_count": 7,
   "id": "2f3436aa",
   "metadata": {},
   "outputs": [
    {
     "name": "stdout",
     "output_type": "stream",
     "text": [
      "Covariance matrix: \n",
      " [[ 0.03068538 -0.08150217]\n",
      " [-0.08150217  1.23714494]]\n"
     ]
    }
   ],
   "source": [
    "covar = np.cov(X,Y)\n",
    "print(f'Covariance matrix: \\n {covar}')\n",
    "# covariance is the value outside of the diagonal: -0.08 in this case"
   ]
  },
  {
   "cell_type": "markdown",
   "id": "0f975aab",
   "metadata": {},
   "source": [
    "# Correlation\n",
    "\n",
    "* A correlation of -1 means that there is a perfect negative linear relationship and a correlation of 1 indicates a perfect positive linear relationship. A correlation of 0 indicates that the variables are uncorrelated (no linear relationship)."
   ]
  },
  {
   "cell_type": "code",
   "execution_count": 8,
   "id": "6a0665b9",
   "metadata": {},
   "outputs": [
    {
     "data": {
      "text/plain": "array([[1.        , 0.64267247],\n       [0.64267247, 1.        ]])"
     },
     "execution_count": 8,
     "metadata": {},
     "output_type": "execute_result"
    }
   ],
   "source": [
    "# Taking the consumption of beer as a function of temperature.\n",
    "np.corrcoef(x,y)\n",
    "\n",
    "# Correlation is advantageous because you can compare it between pairs of variables since it not depends on the scale of the data."
   ]
  },
  {
   "cell_type": "markdown",
   "id": "82ebc405",
   "metadata": {
    "pycharm": {
     "name": "#%% md\n"
    }
   },
   "source": [
    "# Simulation of the Dice Experiment - Probability Distribution (PMF)\n"
   ]
  },
  {
   "cell_type": "code",
   "execution_count": 9,
   "id": "ab55e2e5",
   "metadata": {
    "pycharm": {
     "name": "#%%\n"
    }
   },
   "outputs": [
    {
     "name": "stdout",
     "output_type": "stream",
     "text": [
      "[4 2 1 2 2 4 2 5 2 2 6 3 3 4 5 2 5 4 4 2]\n"
     ]
    }
   ],
   "source": [
    "# You call X the random variable corresponding to this experiment. Assuming that the die is fair,\n",
    "# each outcome is equiprobable: if you run the experiment a large number of times, you will get\n",
    "# each outcome approximately the same number of times.\n",
    "\n",
    "rolls = np.random.randint(1,7,20) # Rolling dice 20 time\n",
    "print(rolls)"
   ]
  },
  {
   "cell_type": "code",
   "execution_count": 10,
   "id": "0d7653ff",
   "metadata": {
    "pycharm": {
     "name": "#%%\n"
    }
   },
   "outputs": [
    {
     "data": {
      "text/plain": "<StemContainer object of 3 artists>"
     },
     "execution_count": 10,
     "metadata": {},
     "output_type": "execute_result"
    },
    {
     "data": {
      "text/plain": "<Figure size 432x288 with 1 Axes>",
      "image/png": "[encoded data removed]"
     },
     "metadata": {
      "needs_background": "light"
     },
     "output_type": "display_data"
    }
   ],
   "source": [
    "# Assuming the die is fair, you should have an uniform distribution, that is,equiprobable outcomes.\n",
    "# Let’s visualize the quantity of each outcome you got in the random experiment.\n",
    "\n",
    "val, counts = np.unique(rolls, return_counts=True)\n",
    "plt.stem(val, counts/len(rolls), basefmt=\"C2-\", use_line_collection=True)"
   ]
  },
  {
   "cell_type": "code",
   "execution_count": 12,
   "id": "f87b502e",
   "metadata": {
    "pycharm": {
     "name": "#%%\n"
    }
   },
   "outputs": [
    {
     "data": {
      "text/plain": "<StemContainer object of 3 artists>"
     },
     "execution_count": 12,
     "metadata": {},
     "output_type": "execute_result"
    },
    {
     "data": {
      "text/plain": "<Figure size 432x288 with 1 Axes>",
      "image/png": "[encoded data removed]"
     },
     "metadata": {
      "needs_background": "light"
     },
     "output_type": "display_data"
    }
   ],
   "source": [
    "# With a uniform distribution, the plot would have the same height for each outcome.\n",
    "# However, the distribution shown in above plot doesn’t look uniform. That’s because you didn’t repeat the experiment\n",
    "# enough: the probabilities will stand when you repeat the experiment a large number of times\n",
    "\n",
    "throws = np.random.randint(1,7,100000)\n",
    "val, counts = np.unique(throws, return_counts=True)\n",
    "plt.stem(val, counts/len(throws), basefmt='C2-', use_line_collection=True)"
   ]
  },
  {
   "cell_type": "markdown",
   "source": [
    "# Probability Density Function (PDF)"
   ],
   "metadata": {
    "collapsed": false,
    "pycharm": {
     "name": "#%% md\n"
    }
   }
  },
  {
   "cell_type": "code",
   "execution_count": 18,
   "outputs": [
    {
     "data": {
      "text/plain": "<Figure size 432x288 with 1 Axes>",
      "image/png": "[encoded data removed]"
     },
     "metadata": {
      "needs_background": "light"
     },
     "output_type": "display_data"
    }
   ],
   "source": [
    "# The integral of the probability density function over a particular interval gives\n",
    "# you the probability that a random variable takes a value in this interval\n",
    "\n",
    "# Example\n",
    "np.random.seed(123)\n",
    "mu, sigma = 0.3, 0.1 # mean and standard deviation\n",
    "data = np.random.normal(mu, sigma, 1000)\n",
    "\n",
    "hist = plt.hist(data, bins=13, range=(-0.3,1))\n",
    "\n",
    "# hist[0] - Y axis\n",
    "# hist[1] - X axis"
   ],
   "metadata": {
    "collapsed": false,
    "pycharm": {
     "name": "#%%\n"
    }
   }
  },
  {
   "cell_type": "code",
   "execution_count": 19,
   "outputs": [
    {
     "data": {
      "text/plain": "<Figure size 432x288 with 1 Axes>",
      "image/png": "[encoded data removed]"
     },
     "metadata": {
      "needs_background": "light"
     },
     "output_type": "display_data"
    }
   ],
   "source": [
    "# use the parameter density to make the y-axis correspond to the probability density\n",
    "# instead of the count of values in each bin\n",
    "\n",
    "hist = plt.hist(data, bins=24, range=(-0.2, 1), density=True)"
   ],
   "metadata": {
    "collapsed": false,
    "pycharm": {
     "name": "#%%\n"
    }
   }
  },
  {
   "cell_type": "code",
   "execution_count": 23,
   "outputs": [
    {
     "name": "stdout",
     "output_type": "stream",
     "text": [
      "Density : 2.8\n",
      "Range x from 0.2 to 0.25\n",
      "Area of bar: 0.14\n"
     ]
    }
   ],
   "source": [
    "# To calculate the probability to draw a value in a certain range from the density,\n",
    "# you need to use the area under the curve. In the case of histograms, this is the\n",
    "# area of the bars.\n",
    "# Example with the bar ranging from 0.2 to 0.25\n",
    "\n",
    "print(f'Density : {hist[0][8].round(4)}')\n",
    "print(f'Range x from {hist[1][8].round(4)} to {hist[1][9].round(4)}')\n",
    "\n",
    "# As each bar corresponds to a range of 0.05 (1-(-0.2) / 24), and in the example above\n",
    "# height of the bar is 2.8, Hence the Area of the bar is:\n",
    "\n",
    "print(f'Area of bar: {round(2.8*0.05, 2)}')\n",
    "\n",
    "# This means that the probability of getting a value between 0.2 and 0.25 is around 0.14, or 14%."
   ],
   "metadata": {
    "collapsed": false,
    "pycharm": {
     "name": "#%%\n"
    }
   }
  },
  {
   "cell_type": "code",
   "execution_count": 25,
   "outputs": [
    {
     "name": "stdout",
     "output_type": "stream",
     "text": [
      "Sum of all probabilities: 1.0\n"
     ]
    }
   ],
   "source": [
    "# As we know the sum of the probabilities must be equal to one, so the sum of the\n",
    "# bar’s areas should be equal to one.\n",
    "\n",
    "print(f'Sum of all probabilities: {(hist[0] * 0.05).sum().round(4)}')"
   ],
   "metadata": {
    "collapsed": false,
    "pycharm": {
     "name": "#%%\n"
    }
   }
  },
  {
   "cell_type": "markdown",
   "source": [
    "# Central Limit Theorem\n",
    "* The central limit theorem says that, if you consider <u> multiple independent\n",
    "random variables drawn from a distribution </u> with large enough and average\n",
    "n or sum their outcomes, the distribution of the results will be approximated\n",
    "by a <u>Gaussian distribution</u>."
   ],
   "metadata": {
    "collapsed": false,
    "pycharm": {
     "name": "#%% md\n"
    }
   },
   "execution_count": 24
  },
  {
   "cell_type": "code",
   "execution_count": 36,
   "outputs": [
    {
     "data": {
      "text/plain": "<Figure size 864x144 with 3 Axes>",
      "image/png": "[encoded data removed]"
     },
     "metadata": {
      "needs_background": "light"
     },
     "output_type": "display_data"
    }
   ],
   "source": [
    "# Continous Distribution\n",
    "\n",
    "# This function allows us to do the experiment with various number of random variables\n",
    "def continous_distribution(num_rand_var):\n",
    "    n_trials = 10000\n",
    "    all_trails = np.zeros(n_trials)\n",
    "    for i in range(n_trials):\n",
    "        all_rand_var = np.zeros(num_rand_var)\n",
    "        for rand_var in range(num_rand_var):\n",
    "            all_rand_var[rand_var] = np.random.uniform(0,1)\n",
    "        all_trails[i] = all_rand_var.mean()\n",
    "\n",
    "    return all_trails\n",
    "\n",
    "# Let’s use it with one, two, and five random variables and look at the\n",
    "# distribution of the results with histograms\n",
    "\n",
    "rand_var_uniform_1 = continous_distribution(1)\n",
    "rand_var_uniform_2 = continous_distribution(2)\n",
    "rand_var_uniform_5 = continous_distribution(5)\n",
    "\n",
    "f, ax = plt.subplots(1,3, figsize=[12,2])\n",
    "ax[0].hist(rand_var_uniform_1, bins=20)\n",
    "ax[1].hist(rand_var_uniform_2, bins=20)\n",
    "ax[2].hist(rand_var_uniform_5, bins=20)\n",
    "ax[0].set_title(\"One Random Variable\")\n",
    "ax[1].set_title(\"Two Random Variables\")\n",
    "ax[2].set_title(\"Five Random Variables\")\n",
    "plt.show()"
   ],
   "metadata": {
    "collapsed": false,
    "pycharm": {
     "name": "#%%\n"
    }
   }
  },
  {
   "cell_type": "code",
   "execution_count": 40,
   "outputs": [
    {
     "data": {
      "text/plain": "<Figure size 864x144 with 3 Axes>",
      "image/png": "[encoded data removed]"
     },
     "metadata": {
      "needs_background": "light"
     },
     "output_type": "display_data"
    }
   ],
   "source": [
    "# Discrete Distribution\n",
    "\n",
    "def discrete_distribution(n_dice):\n",
    "    n_trials = 100000\n",
    "    all_trials = np.zeros(n_trials)\n",
    "    for i in range(n_trials):\n",
    "        all_dice = np.zeros(n_dice)\n",
    "        for dice in range(n_dice):\n",
    "            all_dice[dice] = np.random.choice([1,2,3,4,5,6])\n",
    "        all_trials[i] = all_dice.mean()\n",
    "\n",
    "    return all_trials\n",
    "\n",
    "rand_var_dice_1 = discrete_distribution(1)\n",
    "rand_var_dice_2 = discrete_distribution(2)\n",
    "rand_var_dice_20 = discrete_distribution(20)\n",
    "\n",
    "f, ax = plt.subplots(1,3, figsize=[12,2])\n",
    "ax[0].hist(rand_var_dice_1, bins=6)\n",
    "ax[1].hist(rand_var_dice_2, bins=11)\n",
    "ax[2].hist(rand_var_dice_20, bins=34)\n",
    "ax[0].set_title(\"One Dice\")\n",
    "ax[1].set_title(\"Two Dice\")\n",
    "ax[2].set_title(\"Twenty Dice\")\n",
    "plt.show()"
   ],
   "metadata": {
    "collapsed": false,
    "pycharm": {
     "name": "#%%\n"
    }
   }
  }
 ],
 "metadata": {
  "environment": {
   "name": "common-cpu.m73",
   "type": "gcloud",
   "uri": "gcr.io/deeplearning-platform-release/base-cpu:m73"
  },
  "kernelspec": {
   "display_name": "Python 3",
   "language": "python",
   "name": "python3"
  },
  "language_info": {
   "codemirror_mode": {
    "name": "ipython",
    "version": 3
   },
   "file_extension": ".py",
   "mimetype": "text/x-python",
   "name": "python",
   "nbconvert_exporter": "python",
   "pygments_lexer": "ipython3",
   "version": "3.8.2"
  }
 },
 "nbformat": 4,
 "nbformat_minor": 5
}